{
 "cells": [
  {
   "cell_type": "markdown",
   "metadata": {},
   "source": [
    "## CNN Model To Classify Zalando's Article Images"
   ]
  },
  {
   "cell_type": "code",
   "execution_count": 24,
   "metadata": {},
   "outputs": [],
   "source": [
    "#Reading data\n",
    "import os\n",
    "import pandas as pd\n",
    "\n",
    "train = pd.read_csv(\"C:/Users/Mounika/Documents/monica work/INSOFE/Assignment/Assignment/zalando_train.csv/fashion-mnist_train.csv\").values\n",
    "test = pd.read_csv(\"C:/Users/Mounika/Documents/monica work/INSOFE/Assignment/Assignment/zalando_test.csv/fashion-mnist_test.csv\").values"
   ]
  },
  {
   "cell_type": "code",
   "execution_count": 27,
   "metadata": {},
   "outputs": [
    {
     "data": {
      "text/plain": [
       "60000"
      ]
     },
     "execution_count": 27,
     "metadata": {},
     "output_type": "execute_result"
    }
   ],
   "source": [
    "train.shape[0]"
   ]
  },
  {
   "cell_type": "markdown",
   "metadata": {},
   "source": [
    "As the data given to us in CSV format which is an array, we need to convert these into image format(An image is a 3-D matrix of pixels). So we now reshape the array into 3D matrix and separate the target variable(labels of images) from data.\n",
    "\n",
    "Note: Keras requires an extra dimension in the end which correspond to channels. MNIST images are gray scaled so it use only one channel. For RGB images, there is 3 channels, we would have reshaped 784px vectors to 28x28x3 3D matrices."
   ]
  },
  {
   "cell_type": "code",
   "execution_count": 51,
   "metadata": {},
   "outputs": [],
   "source": [
    "# Reshape the  train and test data\n",
    "img_rows,img_cols=28,28\n",
    "img_channels = 1\n",
    "\n",
    "train_data = train[:, 1:].reshape(train.shape[0],img_rows, img_cols,img_channels).astype( 'float32' )\n",
    "train_labels = train[:,0]\n",
    "\n",
    "test_data = test[:,1:].reshape(test.shape[0],28, 28,1).astype( 'float32' )\n",
    "test_labels = test[:,0]"
   ]
  },
  {
   "cell_type": "markdown",
   "metadata": {},
   "source": [
    "### Label Encoding"
   ]
  },
  {
   "cell_type": "code",
   "execution_count": 52,
   "metadata": {},
   "outputs": [],
   "source": [
    "# Encode labels to one hot vectors (ex : 5 -> [0,0,0,0,0,1,0,0,0,0])\n",
    "\n",
    "import numpy as np \n",
    "\n",
    "nb_classes = len(np.unique(train_labels)) #Finding the number of classes of target variable\n",
    "\n",
    "#Converting class vectors to binary class matrices\n",
    "\n",
    "\n",
    "from keras.utils import to_categorical\n",
    "\n",
    "train_labels = to_categorical(train_labels,nb_classes)\n",
    "test_labels  = to_categorical(test_labels,nb_classes)"
   ]
  },
  {
   "cell_type": "code",
   "execution_count": 53,
   "metadata": {},
   "outputs": [],
   "source": [
    "#Normalizing the data\n",
    "\n",
    "train_data /=255\n",
    "test_data /= 255"
   ]
  },
  {
   "cell_type": "code",
   "execution_count": 54,
   "metadata": {
    "collapsed": true
   },
   "outputs": [],
   "source": [
    "#Importing libraries to build convolutional neural network.\n",
    "\n",
    "from keras import Sequential\n",
    "from keras.layers import Convolution2D,MaxPooling2D\n",
    "from keras.layers import Dense,Dropout,Flatten"
   ]
  },
  {
   "cell_type": "code",
   "execution_count": 55,
   "metadata": {},
   "outputs": [
    {
     "data": {
      "text/plain": [
       "(60000, 28, 28, 1)"
      ]
     },
     "execution_count": 55,
     "metadata": {},
     "output_type": "execute_result"
    }
   ],
   "source": [
    "train_data.shape"
   ]
  },
  {
   "cell_type": "code",
   "execution_count": 56,
   "metadata": {},
   "outputs": [],
   "source": [
    "#Building the CNN architecture\n",
    "\n",
    "img_rows,img_cols=28,28\n",
    "img_channels=1\n",
    "model = Sequential()\n",
    "model.add(Convolution2D(filters=32,kernel_size = (3,3),strides = 1,padding = 'same',activation = 'relu',\n",
    "                       input_shape=(img_rows,img_cols,img_channels)))\n",
    "model.add(Convolution2D(filters = 32,kernel_size=(3,3),activation = 'relu'))\n",
    "model.add(MaxPooling2D(pool_size = (2,2)))\n",
    "model.add(Dropout(0.25))\n",
    "\n",
    "model.add(Convolution2D(filters=64,kernel_size = (3,3),strides = 1,padding = 'same',activation = 'relu'))\n",
    "model.add(Convolution2D(filters = 64,kernel_size=(3,3),activation = 'relu'))\n",
    "model.add(MaxPooling2D(pool_size = (2,2)))\n",
    "model.add(Dropout(0.25))\n",
    "\n",
    "model.add(Flatten())\n",
    "model.add(Dense(512,activation='relu'))\n",
    "model.add(Dropout(0.5))\n",
    "model.add(Dense(nb_classes,activation='softmax'))\n"
   ]
  },
  {
   "cell_type": "code",
   "execution_count": 57,
   "metadata": {
    "collapsed": true
   },
   "outputs": [],
   "source": [
    "#Configuring the model\n",
    "\n",
    "model.compile(loss='categorical_crossentropy',optimizer='adam',metrics=['accuracy'])"
   ]
  },
  {
   "cell_type": "code",
   "execution_count": 61,
   "metadata": {},
   "outputs": [
    {
     "name": "stdout",
     "output_type": "stream",
     "text": [
      "Train on 42000 samples, validate on 18000 samples\n",
      "Epoch 1/25\n",
      "42000/42000 [==============================] - 311s 7ms/step - loss: 0.2170 - acc: 0.9203 - val_loss: 0.1822 - val_acc: 0.9345\n",
      "Epoch 2/25\n",
      "42000/42000 [==============================] - 308s 7ms/step - loss: 0.2066 - acc: 0.9236 - val_loss: 0.1819 - val_acc: 0.9324\n",
      "Epoch 3/25\n",
      "42000/42000 [==============================] - 295s 7ms/step - loss: 0.1967 - acc: 0.9264 - val_loss: 0.1806 - val_acc: 0.9337\n",
      "Epoch 4/25\n",
      "42000/42000 [==============================] - 315s 7ms/step - loss: 0.1923 - acc: 0.9287 - val_loss: 0.1760 - val_acc: 0.9368\n",
      "Epoch 5/25\n",
      "42000/42000 [==============================] - 299s 7ms/step - loss: 0.1819 - acc: 0.9309 - val_loss: 0.1837 - val_acc: 0.9336\n",
      "Epoch 6/25\n",
      "42000/42000 [==============================] - 289s 7ms/step - loss: 0.1796 - acc: 0.9333 - val_loss: 0.1773 - val_acc: 0.9358\n",
      "Epoch 7/25\n",
      "42000/42000 [==============================] - 293s 7ms/step - loss: 0.1743 - acc: 0.9344 - val_loss: 0.1861 - val_acc: 0.9347\n",
      "Epoch 8/25\n",
      "42000/42000 [==============================] - 300s 7ms/step - loss: 0.1650 - acc: 0.9383 - val_loss: 0.1841 - val_acc: 0.9334\n",
      "Epoch 9/25\n",
      "42000/42000 [==============================] - 298s 7ms/step - loss: 0.1619 - acc: 0.9383 - val_loss: 0.1874 - val_acc: 0.9337\n",
      "Epoch 10/25\n",
      "42000/42000 [==============================] - 296s 7ms/step - loss: 0.1599 - acc: 0.9402 - val_loss: 0.1854 - val_acc: 0.9353\n",
      "Epoch 11/25\n",
      "42000/42000 [==============================] - 295s 7ms/step - loss: 0.1562 - acc: 0.9429 - val_loss: 0.1868 - val_acc: 0.9346\n",
      "Epoch 12/25\n",
      "42000/42000 [==============================] - 300s 7ms/step - loss: 0.1501 - acc: 0.9442 - val_loss: 0.1995 - val_acc: 0.9341\n",
      "Epoch 13/25\n",
      "42000/42000 [==============================] - 296s 7ms/step - loss: 0.1475 - acc: 0.9451 - val_loss: 0.1911 - val_acc: 0.9343\n",
      "Epoch 14/25\n",
      "42000/42000 [==============================] - 292s 7ms/step - loss: 0.1417 - acc: 0.9478 - val_loss: 0.1921 - val_acc: 0.9344\n",
      "Epoch 15/25\n",
      "42000/42000 [==============================] - 283s 7ms/step - loss: 0.1425 - acc: 0.9476 - val_loss: 0.1921 - val_acc: 0.9348\n",
      "Epoch 16/25\n",
      "42000/42000 [==============================] - 278s 7ms/step - loss: 0.1370 - acc: 0.9491 - val_loss: 0.1954 - val_acc: 0.9368\n",
      "Epoch 17/25\n",
      "42000/42000 [==============================] - 606s 14ms/step - loss: 0.1395 - acc: 0.9480 - val_loss: 0.1898 - val_acc: 0.9375\n",
      "Epoch 18/25\n",
      "42000/42000 [==============================] - 293s 7ms/step - loss: 0.1348 - acc: 0.9499 - val_loss: 0.2005 - val_acc: 0.9334\n",
      "Epoch 19/25\n",
      "42000/42000 [==============================] - 298s 7ms/step - loss: 0.1328 - acc: 0.9510 - val_loss: 0.2067 - val_acc: 0.9324\n",
      "Epoch 20/25\n",
      "42000/42000 [==============================] - 291s 7ms/step - loss: 0.1307 - acc: 0.9512 - val_loss: 0.2027 - val_acc: 0.9319\n",
      "Epoch 21/25\n",
      "42000/42000 [==============================] - 297s 7ms/step - loss: 0.1301 - acc: 0.9495 - val_loss: 0.2084 - val_acc: 0.9324\n",
      "Epoch 22/25\n",
      "42000/42000 [==============================] - 295s 7ms/step - loss: 0.1261 - acc: 0.9532 - val_loss: 0.2096 - val_acc: 0.9361\n",
      "Epoch 23/25\n",
      "42000/42000 [==============================] - 296s 7ms/step - loss: 0.1257 - acc: 0.9540 - val_loss: 0.2131 - val_acc: 0.9342\n",
      "Epoch 24/25\n",
      "42000/42000 [==============================] - 243s 6ms/step - loss: 0.1242 - acc: 0.9538 - val_loss: 0.2138 - val_acc: 0.9325\n",
      "Epoch 25/25\n",
      "42000/42000 [==============================] - 231s 6ms/step - loss: 0.1236 - acc: 0.9529 - val_loss: 0.2216 - val_acc: 0.9306\n"
     ]
    }
   ],
   "source": [
    "#Fitting the model\n",
    "\n",
    "batch_size = 32\n",
    "nb_epoch = 25\n",
    "model_train = model.fit(train_data,train_labels,\n",
    "             batch_size = batch_size,epochs = nb_epoch,\n",
    "             validation_split=0.3,\n",
    "             shuffle = True)"
   ]
  },
  {
   "cell_type": "code",
   "execution_count": 62,
   "metadata": {
    "collapsed": true
   },
   "outputs": [],
   "source": [
    "#Saving the model\n",
    "model.save('mnist_model.h5py')"
   ]
  },
  {
   "cell_type": "markdown",
   "metadata": {},
   "source": [
    "### Model Evaluation"
   ]
  },
  {
   "cell_type": "code",
   "execution_count": 63,
   "metadata": {},
   "outputs": [
    {
     "name": "stdout",
     "output_type": "stream",
     "text": [
      "10000/10000 [==============================] - 15s 2ms/step\n"
     ]
    }
   ],
   "source": [
    "#Model evaluation on the test set\n",
    "test_eval = model.evaluate(test_data, test_labels, verbose=1)"
   ]
  },
  {
   "cell_type": "code",
   "execution_count": 64,
   "metadata": {},
   "outputs": [
    {
     "name": "stdout",
     "output_type": "stream",
     "text": [
      "Test loss: 0.21293689974\n",
      "Test accuracy: 0.9299\n"
     ]
    }
   ],
   "source": [
    "print('Test loss:', test_eval[0])\n",
    "print('Test accuracy:', test_eval[1])"
   ]
  },
  {
   "cell_type": "code",
   "execution_count": 66,
   "metadata": {
    "collapsed": true
   },
   "outputs": [],
   "source": [
    "from keras.models import load_model\n",
    "model_final = load_model('mnist_model.h5py')"
   ]
  },
  {
   "cell_type": "code",
   "execution_count": 67,
   "metadata": {},
   "outputs": [
    {
     "name": "stdout",
     "output_type": "stream",
     "text": [
      "[[  9.98923838e-01   1.24032983e-14   6.35683364e-07 ...,   1.33522039e-14\n",
      "    2.93928021e-10   6.97976697e-14]\n",
      " [  6.06678747e-31   1.00000000e+00   1.53515845e-32 ...,   0.00000000e+00\n",
      "    1.01922883e-31   0.00000000e+00]\n",
      " [  3.35210789e-05   8.12577409e-14   9.91536021e-01 ...,   4.13948450e-19\n",
      "    8.14865482e-13   3.69083589e-17]\n",
      " ..., \n",
      " [  4.70473163e-30   0.00000000e+00   6.42641081e-38 ...,   4.55746874e-34\n",
      "    1.00000000e+00   3.19543694e-38]\n",
      " [  4.49747149e-11   3.63873608e-17   1.16644891e-17 ...,   1.81406307e-16\n",
      "    1.00000000e+00   1.55932932e-15]\n",
      " [  1.02248332e-05   9.99402285e-01   9.39686743e-06 ...,   4.80918816e-09\n",
      "    1.89453895e-05   4.13299256e-11]]\n"
     ]
    }
   ],
   "source": [
    "#Predicting classes for test data\n",
    "predictions= model_final.predict(test_data)\n",
    "print(predictions)"
   ]
  },
  {
   "cell_type": "code",
   "execution_count": 80,
   "metadata": {
    "collapsed": true
   },
   "outputs": [],
   "source": [
    "predicted_classes = predictions.round()"
   ]
  },
  {
   "cell_type": "code",
   "execution_count": 101,
   "metadata": {
    "collapsed": true
   },
   "outputs": [],
   "source": [
    "# Convert one hot vectors to prediction classes\n",
    "Y_pred_classes = np.argmax(predictions,axis = 1)\n",
    "Y_true = np.argmax(test_labels,axis = 1)"
   ]
  },
  {
   "cell_type": "code",
   "execution_count": 146,
   "metadata": {},
   "outputs": [
    {
     "name": "stderr",
     "output_type": "stream",
     "text": [
      "C:\\Users\\Mounika\\Anaconda3\\lib\\site-packages\\sklearn\\utils\\deprecation.py:77: DeprecationWarning: Function plot_confusion_matrix is deprecated; This will be removed in v0.4.0. Please use scikitplot.metrics.plot_confusion_matrix instead.\n",
      "  warnings.warn(msg, category=DeprecationWarning)\n"
     ]
    },
    {
     "data": {
      "text/plain": [
       "([<matplotlib.axis.YTick at 0x23619802240>,\n",
       "  <matplotlib.axis.YTick at 0x236197e8b00>,\n",
       "  <matplotlib.axis.YTick at 0x236197f1d68>,\n",
       "  <matplotlib.axis.YTick at 0x236198cc048>,\n",
       "  <matplotlib.axis.YTick at 0x2361982d438>,\n",
       "  <matplotlib.axis.YTick at 0x236198ecb00>,\n",
       "  <matplotlib.axis.YTick at 0x236198f65f8>,\n",
       "  <matplotlib.axis.YTick at 0x236198fb0f0>,\n",
       "  <matplotlib.axis.YTick at 0x236198fb8d0>,\n",
       "  <matplotlib.axis.YTick at 0x236199023c8>],\n",
       " <a list of 10 Text yticklabel objects>)"
      ]
     },
     "execution_count": 146,
     "metadata": {},
     "output_type": "execute_result"
    },
    {
     "data": {
      "image/png": "[encoded data removed]",
      "text/plain": [
       "<matplotlib.figure.Figure at 0x23619467a90>"
      ]
     },
     "metadata": {},
     "output_type": "display_data"
    }
   ],
   "source": [
    "#Confusion matrix\n",
    "\n",
    "import scikitplot.plotters as skplt\n",
    "import matplotlib.pyplot as plt\n",
    "%matplotlib inline\n",
    "skplt.plot_confusion_matrix(Y_true, Y_pred_classes,figsize=(8,8))\n",
    "plt.xticks([0,1,2,3,4,5,6,7,8,9],['T-shirt/top','Trouser','Pullover','Dress','Coat','Sandal','Shirt','Sneaker','Bag','Ankle boot'])\n",
    "plt.yticks([0,1,2,3,4,5,6,7,8,9],['T-shirt/top','Trouser','Pullover','Dress','Coat','Sandal','Shirt','Sneaker','Bag','Ankle boot'])"
   ]
  },
  {
   "cell_type": "markdown",
   "metadata": {},
   "source": [
    "From the above confusion matrix, we observe that maximum errors were made while predicting shirts which were confused to be T-shirt/top which is quite common even to the human eye."
   ]
  },
  {
   "cell_type": "code",
   "execution_count": 152,
   "metadata": {},
   "outputs": [
    {
     "name": "stdout",
     "output_type": "stream",
     "text": [
      "             precision    recall  f1-score   support\n",
      "\n",
      "          0       0.93      0.82      0.87      1000\n",
      "          1       1.00      0.99      0.99      1000\n",
      "          2       0.92      0.87      0.89      1000\n",
      "          3       0.91      0.96      0.94      1000\n",
      "          4       0.89      0.91      0.90      1000\n",
      "          5       0.99      0.98      0.99      1000\n",
      "          6       0.76      0.84      0.80      1000\n",
      "          7       0.96      0.97      0.97      1000\n",
      "          8       0.99      0.99      0.99      1000\n",
      "          9       0.97      0.97      0.97      1000\n",
      "\n",
      "avg / total       0.93      0.93      0.93     10000\n",
      "\n"
     ]
    }
   ],
   "source": [
    "#Classification Report\n",
    "\n",
    "from sklearn.metrics import classification_report\n",
    "print (classification_report(Y_true, Y_pred_classes))"
   ]
  },
  {
   "cell_type": "markdown",
   "metadata": {},
   "source": [
    "The highest scores were observed while predicting trousers and sneakers (may be because there were no other similar things) and the lowest were observed while predicting shirts because they were mostly confused with tops or pullovers."
   ]
  }
 ],
 "metadata": {
  "kernelspec": {
   "display_name": "Python 3",
   "language": "python",
   "name": "python3"
  },
  "language_info": {
   "codemirror_mode": {
    "name": "ipython",
    "version": 3
   },
   "file_extension": ".py",
   "mimetype": "text/x-python",
   "name": "python",
   "nbconvert_exporter": "python",
   "pygments_lexer": "ipython3",
   "version": "3.6.1"
  }
 },
 "nbformat": 4,
 "nbformat_minor": 2
}
